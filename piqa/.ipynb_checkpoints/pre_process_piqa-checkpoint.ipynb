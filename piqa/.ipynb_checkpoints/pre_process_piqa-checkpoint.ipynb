{
 "cells": [
  {
   "cell_type": "code",
   "execution_count": 1,
   "metadata": {},
   "outputs": [],
   "source": [
    "# Imports\n",
    "import pandas as pd\n",
    "import numpy as np\n",
    "import json"
   ]
  },
  {
   "cell_type": "code",
   "execution_count": 6,
   "metadata": {},
   "outputs": [],
   "source": [
    "# File paths\n",
    "train_json_path = \"/home/pratik/Desktop/capstone/MCDS-Capstone-Project/piqa/dataset/train.jsonl\"\n",
    "dev_json_path = \"/home/pratik/Desktop/capstone/MCDS-Capstone-Project/piqa/dataset/valid.jsonl\"\n",
    "train_labels_path = \"/home/pratik/Desktop/capstone/MCDS-Capstone-Project/piqa/dataset/train-labels.lst\"\n",
    "dev_labels_path = \"/home/pratik/Desktop/capstone/MCDS-Capstone-Project/piqa/dataset/valid-labels.lst\""
   ]
  },
  {
   "cell_type": "code",
   "execution_count": 7,
   "metadata": {},
   "outputs": [],
   "source": [
    "# Read json data\n",
    "def read_json(file_path):\n",
    "    result = None\n",
    "    with open(file_path, 'r') as fh:\n",
    "        result = [json.loads(x) for x in fh.readlines()]\n",
    "    return result\n",
    "json_data_train = read_json(train_json_path)\n",
    "json_data_dev = read_json(dev_json_path)"
   ]
  },
  {
   "cell_type": "code",
   "execution_count": 8,
   "metadata": {},
   "outputs": [],
   "source": [
    "def read_labels(file_path):\n",
    "    result = None\n",
    "    with open(file_path, 'r') as fh:\n",
    "        result = [int(x) for x in fh.readlines()]\n",
    "    return result\n",
    "\n",
    "train_y = read_labels(train_labels_path)\n",
    "dev_y = read_labels(dev_labels_path)"
   ]
  },
  {
   "cell_type": "code",
   "execution_count": 16,
   "metadata": {},
   "outputs": [],
   "source": [
    "# Json Format\n",
    "# {'answerA': 'like attending',\n",
    "#   'answerB': 'like staying home',\n",
    "#   'context': 'Cameron decided to have a barbecue and gathered her friends together.',\n",
    "#   'question': 'How would Others feel as a result?'}\n",
    "\n",
    "def convert_json_to_pandas(json_data):\n",
    "    \n",
    "    json_dict = {\"goal\" : [],\n",
    "    \"sol1\" : [],\n",
    "    \"sol2\" : [],\n",
    "}\n",
    "    for json_line in json_data:\n",
    "        json_dict[\"goal\"].append(json_line['goal'])\n",
    "        json_dict[\"sol1\"].append(json_line['sol1'])\n",
    "        json_dict[\"sol2\"].append(json_line['sol2'])\n",
    "    \n",
    "    return pd.DataFrame.from_dict(json_dict)\n",
    "\n",
    "train_pandas_x = convert_json_to_pandas(json_data_train)\n",
    "dev_pandas_x = convert_json_to_pandas(json_data_dev)"
   ]
  },
  {
   "cell_type": "code",
   "execution_count": 17,
   "metadata": {},
   "outputs": [],
   "source": [
    "def merge_x_and_labels(pandas_x, labels):\n",
    "    pandas_x['labels'] = labels\n",
    "    return pandas_x\n",
    "\n",
    "train_pandas = merge_x_and_labels(train_pandas_x, train_y)\n",
    "dev_pandas = merge_x_and_labels(dev_pandas_x, dev_y)"
   ]
  },
  {
   "cell_type": "code",
   "execution_count": 24,
   "metadata": {},
   "outputs": [],
   "source": [
    "# Code to be used like trained in base paper\n",
    "\n",
    "def generate_binary_table(data_pandas):\n",
    "    json_dict =         {\n",
    "        \"goal\" : [],\n",
    "        \"sol1\" : [],\n",
    "        \"sol2\" : [],\n",
    "        \"one_hot_label\": []\n",
    "        }\n",
    "    \n",
    "    CLS = \"[CLS]\"\n",
    "    SEP = \"[SEP]\"\n",
    "    UNUSED = \"[UNUSED]\"\n",
    "    \n",
    "    \n",
    "    ans_list = ['sol1', 'sol2']\n",
    "    \n",
    "    for i in range(len(data_pandas)):\n",
    "        elem = data_pandas.iloc[i]\n",
    "        goal = elem['goal']\n",
    "        json_dict['goal'].append(goal)\n",
    "        json_dict['one_hot_label'].append(elem['labels'])\n",
    "        for j in range(len(ans_list)):\n",
    "            answer = elem[ans_list[j]]            \n",
    "            result = CLS + \" \" + goal + \" \" + SEP + \" \" + answer + SEP\n",
    "            json_dict[ans_list[j]].append(result)\n",
    "            \n",
    "    return pd.DataFrame.from_dict(json_dict)\n",
    "\n",
    "train_paper_pandas = generate_binary_table(train_pandas)\n",
    "dev_paper_pandas = generate_binary_table(dev_pandas)"
   ]
  },
  {
   "cell_type": "code",
   "execution_count": 28,
   "metadata": {},
   "outputs": [],
   "source": [
    "pd.DataFrame.to_csv(train_paper_pandas, '/pre_processed_datasets/train_paper_pandas.csv')\n",
    "pd.DataFrame.to_csv(dev_paper_pandas, '/pre_processed_datasets/dev_paper_pandas.csv')"
   ]
  },
  {
   "cell_type": "code",
   "execution_count": null,
   "metadata": {},
   "outputs": [],
   "source": []
  }
 ],
 "metadata": {
  "kernelspec": {
   "display_name": "Python 3",
   "language": "python",
   "name": "python3"
  },
  "language_info": {
   "codemirror_mode": {
    "name": "ipython",
    "version": 3
   },
   "file_extension": ".py",
   "mimetype": "text/x-python",
   "name": "python",
   "nbconvert_exporter": "python",
   "pygments_lexer": "ipython3",
   "version": "3.6.7"
  }
 },
 "nbformat": 4,
 "nbformat_minor": 2
}
